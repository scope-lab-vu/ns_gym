{
 "cells": [
  {
   "cell_type": "code",
   "execution_count": 21,
   "metadata": {},
   "outputs": [],
   "source": [
    "import os\n",
    "import pandas as pd\n",
    "import pathlib\n",
    "import numpy as np\n",
    "\n",
    "directory = 'results'\n",
    "csv_files = os.listdir(directory)\n",
    "# single change \n",
    "single_tranisition_files = [file for file in csv_files if \"single\" in file]\n",
    "\n",
    "def single_transition_stats(filepath):\n",
    "    df = pd.read_csv(filepath)\n",
    "\n",
    "    if \"PAMCTS\" in str(filepath):\n",
    "        df = df.groupby([\"masspole\",\"alpha\"])[\"reward\"].agg([\"mean\", \"std\",\"count\"])\n",
    "    else:\n",
    "        df = df.groupby(\"masspole\")[\"reward\"].agg([\"mean\", \"std\",\"count\"])\n",
    "    df[\"std_err\"] = df[\"std\"]/np.sqrt(df[\"count\"])\n",
    "    return df\n",
    "\n",
    "\n",
    "def get_csv(filepath):\n",
    "    df = pd.read_csv(filepath)\n",
    "    if \"PAMCTS\" in str(filepath):\n",
    "        df = df.groupby([\"alpha\"])[\"reward\"].agg([\"mean\", \"std\",\"count\"])\n",
    "        return df\n",
    "    mean = df[\"reward\"].mean()\n",
    "    std_err = df[\"reward\"].std()/np.sqrt(len(df[\"reward\"]))\n",
    "    return mean, std_err"
   ]
  },
  {
   "cell_type": "code",
   "execution_count": 22,
   "metadata": {},
   "outputs": [],
   "source": [
    "mcts_files = [file for file in csv_files if \"MCTS\" in file and \"PAMCTS\" not in file]\n",
    "pamcts_files = [file for file in csv_files if \"PAMCTS\" in file]\n",
    "ddqn_files = [file for file in csv_files if \"DDQN\" in file]\n",
    "alphazero_files = [file for file in csv_files if \"AlphaZero\" in file]\n"
   ]
  },
  {
   "cell_type": "code",
   "execution_count": 23,
   "metadata": {},
   "outputs": [
    {
     "name": "stdout",
     "output_type": "stream",
     "text": [
      "                     mean         std  count    std_err\n",
      "polemass num_iter                                      \n",
      "0.1      50        708.08  522.140838     50  73.841865\n",
      "         100       592.36  264.702818     50  37.434632\n",
      "         300       660.86  352.724961     50  49.882842\n",
      "1.0      50        667.90  393.794531     50  55.690957\n",
      "         100       718.64  480.583649     50  67.964791\n",
      "         300       600.90  337.124046     50  47.676540\n",
      "1.2      50        717.70  447.498136     50  63.285793\n",
      "         100       629.40  337.100845     50  47.673259\n",
      "         300       595.64  374.513876     50  52.964260\n",
      "1.3      50        552.68  271.529713     50  38.400100\n",
      "         100       601.52  353.237692     50  49.955353\n",
      "         300       552.84  348.475242     50  49.281841\n",
      "1.5      50        724.84  475.593823     50  67.259123\n",
      "         100       625.60  313.671738     50  44.359883\n",
      "         300       641.28  356.845993     50  50.465644\n"
     ]
    }
   ],
   "source": [
    "file = \"/Users/--/Documents/--/Research/ns_gym/experiments/NS_Cartpole/results/CartpoleVanillaMCTS_withoutChangNotif_2024-05-21_21:50:47.csv\"\n",
    "\n",
    "df = pd.read_csv(file)  \n",
    "df = df.groupby([\"polemass\",\"num_iter\"])[\"reward\"].agg([\"mean\", \"std\",\"count\"])\n",
    "df[\"std_err\"] = df[\"std\"]/np.sqrt(df[\"count\"])\n",
    "print(df)"
   ]
  },
  {
   "cell_type": "code",
   "execution_count": 24,
   "metadata": {},
   "outputs": [
    {
     "name": "stdout",
     "output_type": "stream",
     "text": [
      "                     mean         std  count    std_err\n",
      "polemass num_iter                                      \n",
      "0.1      50        585.06  326.318575     50  46.148415\n",
      "         100       742.92  431.881637     50  61.077287\n",
      "         300       733.84  439.451855     50  62.147877\n",
      "1.0      50        699.38  330.652595     50  46.761338\n",
      "         100       711.92  431.756254     50  61.059555\n",
      "         300       633.62  348.425314     50  49.274780\n",
      "1.2      50        668.96  344.546431     50  48.726224\n",
      "         100       794.64  494.867773     50  69.984872\n",
      "         300       735.52  524.169284     50  74.128731\n",
      "1.3      50        801.60  530.345171     50  75.002133\n",
      "         100       813.06  407.793736     50  57.670743\n",
      "         300       734.08  375.899185     50  53.160173\n",
      "1.5      50        742.62  411.173328     50  58.148690\n",
      "         100       826.20  503.788099     50  71.246396\n",
      "         300       678.58  361.578235     50  51.134884\n"
     ]
    }
   ],
   "source": [
    "file = \"/Users/--/Documents/--/Research/ns_gym/experiments/NS_Cartpole/results/CartpoleVanillaMCTS_single_transition_withChangNotif_2024-05-22_02:56:49.csv\"\n",
    "\n",
    "df = pd.read_csv(file)\n",
    "df = df.groupby([\"polemass\",\"num_iter\"])[\"reward\"].agg([\"mean\", \"std\",\"count\"])\n",
    "df[\"std_err\"] = df[\"std\"]/np.sqrt(df[\"count\"])\n",
    "print(df)"
   ]
  },
  {
   "cell_type": "code",
   "execution_count": 25,
   "metadata": {},
   "outputs": [
    {
     "name": "stdout",
     "output_type": "stream",
     "text": [
      "CartPole_PAMCTS_continuou_change_update_with_notif_2024-08-13.csv\n",
      "Index(['sample_id', 'reward', 'experiment_name', 'num_iter', 'total_time',\n",
      "       'seed', 'c', 'gamma', 'alpha'],\n",
      "      dtype='object')\n",
      "CartPole_PAMCTS_IncreasingMass_trial_with_change_notif_2024-05-31.csv\n",
      "Index(['mass', 'sample_id', 'reward', 'experiment_name', 'num_iter',\n",
      "       'total_time', 'seed', 'c', 'gamma', 'alpha'],\n",
      "      dtype='object')\n",
      "CartPole_PAMCTS_IncreasingMass_trial_1_with_change_notif_2024-05-30.csv\n",
      "Index(['sample_id', 'reward', 'experiment_name', 'num_iter', 'total_time',\n",
      "       'seed', 'c', 'gamma', 'alpha'],\n",
      "      dtype='object')\n",
      "CartPole_PAMCTS_IncreasingMass_trial_1_with_change_notif_2024-05-31.csv\n",
      "Index(['sample_id', 'reward', 'experiment_name', 'num_iter', 'total_time',\n",
      "       'seed', 'c', 'gamma', 'alpha'],\n",
      "      dtype='object')\n",
      "CartPole_PAMCTS_IncreasingMass_trial_1_with_change_notif_2024-06-03.csv\n",
      "Index(['sample_id', 'reward', 'experiment_name', 'num_iter', 'total_time',\n",
      "       'seed', 'c', 'gamma', 'alpha'],\n",
      "      dtype='object')\n",
      "CartPole_PAMCTS_IncreasingMass_trial_1_without_change_notif_2024-05-28.csv\n",
      "Index(['sample_id', 'reward', 'experiment_name', 'num_iter', 'total_time',\n",
      "       'seed', 'c', 'gamma', 'alpha'],\n",
      "      dtype='object')\n",
      "CartPole_PAMCTS_continuous_change_without_change_notif_2024-08-13.csv\n",
      "Index(['sample_id', 'reward', 'experiment_name', 'num_iter', 'total_time',\n",
      "       'seed', 'c', 'gamma', 'alpha'],\n",
      "      dtype='object')\n",
      "CartPole_PAMCTS_single_change_with_change_notif_2024-08-09.csv\n",
      "Index(['mass', 'sample_id', 'reward', 'experiment_name', 'num_iter',\n",
      "       'total_time', 'seed', 'c', 'gamma', 'alpha'],\n",
      "      dtype='object')\n",
      "CartPole_PAMCTS_single_change_without_change_notif_2024-08-09.csv\n",
      "Index(['mass', 'sample_id', 'reward', 'experiment_name', 'num_iter',\n",
      "       'total_time', 'seed', 'c', 'gamma', 'alpha'],\n",
      "      dtype='object')\n",
      "CartPole_PAMCTS_IncreasingMass_trial_1_with_change_notif_2024-05-28.csv\n",
      "Index(['sample_id', 'reward', 'experiment_name', 'num_iter', 'total_time',\n",
      "       'seed', 'c', 'gamma', 'alpha'],\n",
      "      dtype='object')\n",
      "CartPole_PAMCTS_IncreasingMass_trial_without_change_notif_2024-05-30.csv\n",
      "Index(['mass', 'sample_id', 'reward', 'experiment_name', 'num_iter',\n",
      "       'total_time', 'seed', 'c', 'gamma', 'alpha'],\n",
      "      dtype='object')\n"
     ]
    }
   ],
   "source": [
    "for file in pamcts_files:\n",
    "    print(file)\n",
    "    df = pd.read_csv(os.path.join(directory,file))\n",
    "    print(df.columns)"
   ]
  },
  {
   "cell_type": "code",
   "execution_count": 26,
   "metadata": {},
   "outputs": [
    {
     "name": "stdout",
     "output_type": "stream",
     "text": [
      "                  mean       std  count   std_err\n",
      "mass alpha                                       \n",
      "0.1  0.25   136.066667  3.622574    150  0.295782\n",
      "     0.50   136.686667  3.485611    150  0.284599\n",
      "     75.00  136.586667  3.693249    150  0.301553\n",
      "1.0  0.25   136.013333  3.373777    150  0.275468\n",
      "     0.50   136.246667  3.367704    150  0.274972\n",
      "     75.00  135.746667  3.397960    150  0.277442\n",
      "1.2  0.25   136.260000  3.708199    150  0.302773\n",
      "     0.50   135.680000  3.048424    150  0.248903\n",
      "     75.00  136.006667  3.445641    150  0.281335\n",
      "1.3  0.25   135.360000  2.952146    150  0.241042\n",
      "     0.50   135.373333  3.197202    150  0.261050\n",
      "     75.00  135.253333  3.117792    150  0.254567\n",
      "1.5  0.25   135.146667  3.368601    150  0.275045\n",
      "     0.50   135.373333  3.004575    150  0.245323\n",
      "     75.00  135.473333  3.453812    150  0.282003\n"
     ]
    }
   ],
   "source": [
    "file = os.path.join(directory,\"CartPole_PAMCTS_IncreasingMass_trial_with_change_notif_2024-05-31.csv\")\n",
    "df = pd.read_csv(file)\n",
    "df = df[df[\"num_iter\"]==300].groupby([\"mass\",\"alpha\"])[\"reward\"].agg([\"mean\", \"std\",\"count\"])\n",
    "df[\"std_err\"] = df[\"std\"]/np.sqrt(df[\"count\"])\n",
    "print(df)\n"
   ]
  },
  {
   "cell_type": "code",
   "execution_count": 27,
   "metadata": {},
   "outputs": [
    {
     "name": "stdout",
     "output_type": "stream",
     "text": [
      "CartPole_DDQN_IncreasingMass_trial_1_2024-05-28.csv\n",
      "CartPole_DDQN_single_transition_2024-08-13.csv\n",
      "CartPole_DDQN_continous_change_without_notif_2024-07-31.csv\n",
      "CartPole_DDQN_continous_change_with_notif_2024-08-15.csv\n",
      "CartPole_DDQN_single_transition_increasingMass_trial_1_2024-05-30.csv\n"
     ]
    }
   ],
   "source": [
    "for file in ddqn_files:\n",
    "    print(file)"
   ]
  },
  {
   "cell_type": "code",
   "execution_count": 28,
   "metadata": {},
   "outputs": [
    {
     "name": "stdout",
     "output_type": "stream",
     "text": [
      "CartPole_AlphaZero_single_change_with_notif_2024-08-15.csv\n",
      "CartPole_AlphaZero_single_change_without_notif_2024-08-15.csv\n",
      "CartPole_AlphaZero_continous_change_trial_1_with_change_notif_2024-07-16.csv\n",
      "CartPole_AlphaZero_single_change_without_notif_trial_1_2024-07-16.csv\n",
      "CartPole_AlphaZero_single_change_with_notif_big_mass_2024-08-15.csv\n",
      "CartPole_AlphaZero_single_change_without_notif_trial_1_2024-07-12.csv\n",
      "CartPole_AlphaZero_single_change_with_notif_trial_1_2024-07-16.csv\n",
      "CartPole_AlphaZero_continous_change_trial_1_without_change_notif_2024-08-13.csv\n"
     ]
    }
   ],
   "source": [
    "for file in alphazero_files:\n",
    "    print(file)"
   ]
  },
  {
   "cell_type": "code",
   "execution_count": 29,
   "metadata": {},
   "outputs": [
    {
     "name": "stdout",
     "output_type": "stream",
     "text": [
      "             mean          std  count    std_err\n",
      "mass                                            \n",
      "0.1   1561.673333  1091.499981    150  89.120600\n",
      "1.0    230.813333    12.939398    150   1.056497\n",
      "1.2    241.853333    12.448221    150   1.016393\n",
      "1.3    242.793333    10.042391    150   0.819958\n",
      "1.5    902.046667  1016.604516    150  83.005411\n"
     ]
    }
   ],
   "source": [
    "file = \"/Users/--/Documents/--/Research/ns_gym/experiments/NS_Cartpole/results/CartPole_AlphaZero_single_change_with_notif_trial_1_2024-07-16.csv\"\n",
    "df = pd.read_csv(file)\n",
    "df =df.groupby(\"mass\")[\"reward\"].agg([\"mean\", \"std\",\"count\"])\n",
    "df[\"std_err\"] = df[\"std\"]/np.sqrt(df[\"count\"])\n",
    "\n",
    "print(df)"
   ]
  },
  {
   "cell_type": "code",
   "execution_count": 30,
   "metadata": {},
   "outputs": [
    {
     "name": "stdout",
     "output_type": "stream",
     "text": [
      "             mean          std  count    std_err\n",
      "mass                                            \n",
      "0.1   1608.626667  1080.467321    150  88.219787\n",
      "1.0    441.653333   636.470374    150  51.967588\n",
      "1.2    286.060000   317.777585    150  25.946431\n",
      "1.3    259.300000   185.023842    150  15.107133\n",
      "1.5    272.820000   260.219837    150  21.246861\n"
     ]
    }
   ],
   "source": [
    "file = \"CartPole_AlphaZero_single_change_without_notif_trial_1_2024-07-16.csv\"\n",
    "file_path = os.path.join(directory, file)\n",
    "df = pd.read_csv(file_path)\n",
    "df =df.groupby(\"mass\")[\"reward\"].agg([\"mean\", \"std\",\"count\"])\n",
    "df[\"std_err\"] = df[\"std\"]/np.sqrt(df[\"count\"])\n",
    "print(df)\n"
   ]
  },
  {
   "cell_type": "code",
   "execution_count": 31,
   "metadata": {},
   "outputs": [
    {
     "name": "stdout",
     "output_type": "stream",
     "text": [
      "              mean         std  count    std_err\n",
      "mass alpha                                      \n",
      "0.1  0.25   595.79  384.549856    100  38.454986\n",
      "     0.50   122.89    5.035019    100   0.503502\n",
      "     0.75   136.28    3.162533    100   0.316253\n",
      "1.0  0.25   740.84  432.304577    100  43.230458\n",
      "     0.50   123.55    4.676127    100   0.467613\n",
      "     0.75   136.07    2.910292    100   0.291029\n",
      "1.5  0.25   702.58  436.056738    100  43.605674\n",
      "     0.50   124.29    4.725377    100   0.472538\n",
      "     0.75   135.22    3.027083    100   0.302708\n"
     ]
    }
   ],
   "source": [
    "f = \"CartPole_PAMCTS_single_change_with_change_notif_2024-08-09.csv\"\n",
    "df = pd.read_csv(os.path.join(directory,f))\n",
    "df = df.groupby([\"mass\",\"alpha\"])[\"reward\"].agg([\"mean\", \"std\",\"count\"])\n",
    "df[\"std_err\"] = df[\"std\"]/np.sqrt(df[\"count\"])\n",
    "print(df)"
   ]
  },
  {
   "cell_type": "code",
   "execution_count": 32,
   "metadata": {},
   "outputs": [
    {
     "name": "stdout",
     "output_type": "stream",
     "text": [
      "              mean         std  count    std_err\n",
      "mass alpha                                      \n",
      "0.1  0.25   543.17  298.944948    100  29.894495\n",
      "     0.50   121.85    5.242359    100   0.524236\n",
      "     0.75   136.01    3.633445    100   0.363344\n",
      "1.0  0.25   525.98  319.125034    100  31.912503\n",
      "     0.50   120.48    5.864600    100   0.586460\n",
      "     0.75   135.41    3.165773    100   0.316577\n",
      "1.5  0.25   467.35  251.122948    100  25.112295\n",
      "     0.50   117.60   12.390938    100   1.239094\n",
      "     0.75   135.42    3.447089    100   0.344709\n"
     ]
    }
   ],
   "source": [
    "f = \"CartPole_PAMCTS_single_change_without_change_notif_2024-08-09.csv\"\n",
    "df = pd.read_csv(os.path.join(directory,f))\n",
    "df = df.groupby([\"mass\",\"alpha\"])[\"reward\"].agg([\"mean\", \"std\",\"count\"])\n",
    "df[\"std_err\"] = df[\"std\"]/np.sqrt(df[\"count\"])\n",
    "print(df)"
   ]
  },
  {
   "cell_type": "code",
   "execution_count": 33,
   "metadata": {},
   "outputs": [
    {
     "name": "stdout",
     "output_type": "stream",
     "text": [
      "            mean       std  count   std_err\n",
      "mass                                       \n",
      "0.1   136.606667  3.856306    150  0.314866\n",
      "1.0   135.533333  3.414668    150  0.278806\n",
      "1.2   135.853333  3.328516    150  0.271772\n",
      "1.3   136.026667  3.172759    150  0.259055\n",
      "1.5   135.193333  3.272207    150  0.267175\n"
     ]
    }
   ],
   "source": [
    "f = \"/Users/--/Documents/--/Research/ns_gym/experiments/NS_Cartpole/results/CartPole_DDQN_single_transition_increasingMass_trial_1_2024-05-30.csv\"\n",
    "df = pd.read_csv(os.path.join(directory,f))\n",
    "df = df.groupby([\"mass\"])[\"reward\"].agg([\"mean\", \"std\",\"count\"])\n",
    "df[\"std_err\"] = df[\"std\"]/np.sqrt(df[\"count\"])\n",
    "print(df)"
   ]
  },
  {
   "cell_type": "code",
   "execution_count": 34,
   "metadata": {},
   "outputs": [],
   "source": [
    "# f = \"/Users/--/Documents/--/Research/ns_gym/experiments/NS_Cartpole/results/CartPole_MCTS_IncreasingMass_trial_1_without_notif_2024-05-28.csv\"\n",
    "# df = pd.read_csv(os.path.join(directory,f))\n",
    "# df = df.groupby([\"mass\"])[\"reward\"].agg([\"mean\", \"std\",\"count\"])\n",
    "# df[\"std_err\"] = df[\"std\"]/np.sqrt(df[\"count\"])\n",
    "# print(df)"
   ]
  },
  {
   "cell_type": "code",
   "execution_count": 35,
   "metadata": {},
   "outputs": [
    {
     "name": "stdout",
     "output_type": "stream",
     "text": [
      "702.7088888888889\n",
      "21.953630112180136\n"
     ]
    }
   ],
   "source": [
    "#contin change fies\n",
    "\n",
    "contin_change_with_notif = [\"CartPole_AlphaZero_continous_change_trial_1_with_change_notif_2024-07-16.csv\",\"CartPole_MCTS_IncreasingMass_trail_1_2024-05-27.csv\",\"\"]\n",
    "\n",
    "df  = pd.read_csv(os.path.join(directory,contin_change_with_notif[1]))\n",
    "print(df[\"reward\"].mean())\n",
    "print(df[\"reward\"].std()/np.sqrt(len(df[\"reward\"])))\n"
   ]
  },
  {
   "cell_type": "code",
   "execution_count": 36,
   "metadata": {},
   "outputs": [
    {
     "name": "stdout",
     "output_type": "stream",
     "text": [
      "        mean         std  count    std_err\n",
      "mass                                      \n",
      "1.0   585.13  808.682513    100  80.868251\n"
     ]
    }
   ],
   "source": [
    "df = pd.read_csv(\"/Users/--/Documents/--/Research/ns_gym/experiments/NS_Cartpole/results/CartPole_AlphaZero_single_change_without_notif_2024-08-15.csv\")\n",
    "df = df.groupby(\"mass\")[\"reward\"].agg([\"mean\", \"std\",\"count\"])\n",
    "df[\"std_err\"] = df[\"std\"]/np.sqrt(df[\"count\"])\n",
    "print(df)"
   ]
  },
  {
   "cell_type": "code",
   "execution_count": 37,
   "metadata": {},
   "outputs": [
    {
     "name": "stdout",
     "output_type": "stream",
     "text": [
      "        mean        std  count   std_err\n",
      "mass                                    \n",
      "1.0   232.18  12.992134    100  1.299213\n"
     ]
    }
   ],
   "source": [
    "df = pd.read_csv(\"/Users/--/Documents/--/Research/ns_gym/experiments/NS_Cartpole/results/CartPole_AlphaZero_single_change_with_notif_2024-08-15.csv\")\n",
    "df = df.groupby(\"mass\")[\"reward\"].agg([\"mean\", \"std\",\"count\"])\n",
    "df[\"std_err\"] = df[\"std\"]/np.sqrt(df[\"count\"])\n",
    "print(df)"
   ]
  },
  {
   "cell_type": "code",
   "execution_count": 38,
   "metadata": {},
   "outputs": [
    {
     "name": "stdout",
     "output_type": "stream",
     "text": [
      "        mean          std  count     std_err\n",
      "mass                                        \n",
      "1.5   932.49  1031.542529    100  103.154253\n"
     ]
    }
   ],
   "source": [
    "df = pd.read_csv(\"/Users/--/Documents/--/Research/ns_gym/experiments/NS_Cartpole/results/CartPole_AlphaZero_single_change_with_notif_big_mass_2024-08-15.csv\")\n",
    "df = df.groupby(\"mass\")[\"reward\"].agg([\"mean\", \"std\",\"count\"])\n",
    "df[\"std_err\"] = df[\"std\"]/np.sqrt(df[\"count\"])\n",
    "print(df)"
   ]
  },
  {
   "cell_type": "code",
   "execution_count": 39,
   "metadata": {},
   "outputs": [
    {
     "name": "stdout",
     "output_type": "stream",
     "text": [
      "95.97333333333333\n",
      "2.676468785606908\n"
     ]
    }
   ],
   "source": [
    "df = pd.read_csv(\"/Users/--/Documents/--/Research/ns_gym/experiments/NS_Cartpole/results/CartPole_DDQN_continous_change_without_notif_2024-07-31.csv\")\n",
    "print(df[\"reward\"].mean() )\n",
    "print(df[\"reward\"].std()/np.sqrt(len(df[\"reward\"])))\n"
   ]
  },
  {
   "cell_type": "code",
   "execution_count": 40,
   "metadata": {},
   "outputs": [
    {
     "name": "stdout",
     "output_type": "stream",
     "text": [
      "100.78\n",
      "2.622683189806569\n"
     ]
    }
   ],
   "source": [
    "df = pd.read_csv(\"/Users/--/Documents/--/Research/ns_gym/experiments/NS_Cartpole/results/CartPole_DDQN_continous_change_with_notif_2024-08-15.csv\")\n",
    "print(df[\"reward\"].mean() )\n",
    "print(df[\"reward\"].std()/np.sqrt(len(df[\"reward\"])))"
   ]
  },
  {
   "cell_type": "code",
   "execution_count": 43,
   "metadata": {},
   "outputs": [],
   "source": [
    "import gymnasium as gym\n",
    "from PIL import Image\n",
    "\n",
    "env = gym.make(\"FrozenLake-v1\",render_mode=\"human\")\n",
    "env.reset()\n",
    "env.render()"
   ]
  },
  {
   "cell_type": "code",
   "execution_count": 6,
   "metadata": {},
   "outputs": [
    {
     "data": {
      "image/png": "[encoded data removed]",
      "text/plain": [
       "<Figure size 600x600 with 1 Axes>"
      ]
     },
     "metadata": {},
     "output_type": "display_data"
    }
   ],
   "source": [
    "import gymnasium as gym\n",
    "import matplotlib.pyplot as plt\n",
    "from PIL import Image\n",
    "\n",
    "# Create the FrozenLake environment\n",
    "env = gym.make(\"Acrobot-v1\", render_mode=\"rgb_array\")\n",
    "\n",
    "# Reset the environment to the initial state\n",
    "obs = env.reset()\n",
    "\n",
    "# Render the environment and capture the output as an image array\n",
    "image_array = env.render()\n",
    "\n",
    "# Convert the image array to a PIL image\n",
    "image = Image.fromarray(image_array)\n",
    "\n",
    "# Save the image to a PDF using matplotlib\n",
    "plt.figure(figsize=(6, 6))\n",
    "plt.imshow(image)\n",
    "plt.axis('off')  # Turn off axes\n",
    "plt.savefig(\"frozenlake_output.pdf\", format=\"pdf\", bbox_inches=\"tight\", pad_inches=0)\n",
    "\n"
   ]
  },
  {
   "cell_type": "markdown",
   "metadata": {},
   "source": []
  }
 ],
 "metadata": {
  "kernelspec": {
   "display_name": "bench_encv",
   "language": "python",
   "name": "python3"
  },
  "language_info": {
   "codemirror_mode": {
    "name": "ipython",
    "version": 3
   },
   "file_extension": ".py",
   "mimetype": "text/x-python",
   "name": "python",
   "nbconvert_exporter": "python",
   "pygments_lexer": "ipython3",
   "version": "3.10.13"
  }
 },
 "nbformat": 4,
 "nbformat_minor": 2
}
